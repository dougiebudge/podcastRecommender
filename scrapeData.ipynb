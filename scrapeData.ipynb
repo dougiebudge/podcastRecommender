{
 "cells": [
  {
   "cell_type": "code",
   "execution_count": 29,
   "metadata": {},
   "outputs": [],
   "source": [
    "import requests\n",
    "from bs4 import BeautifulSoup\n",
    "import numpy as np\n",
    "import pandas as pd"
   ]
  },
  {
   "cell_type": "markdown",
   "metadata": {},
   "source": [
    "### Get list of episode URLs ###"
   ]
  },
  {
   "cell_type": "code",
   "execution_count": 18,
   "metadata": {},
   "outputs": [],
   "source": [
    "def getEpisodeLinks(URL):   \n",
    "    page = requests.get(URL)\n",
    "    soup = BeautifulSoup(page.content, \"html.parser\")\n",
    "    out=[]\n",
    "    for a in soup.find_all('a',href=True):\n",
    "        out.append(a['href'])\n",
    "    return out[64:84]\n",
    "\n",
    "def getIdentifiers(list):\n",
    "        ids=[x[-8:] for x in list]\n",
    "        return set(ids)\n",
    "    "
   ]
  },
  {
   "cell_type": "code",
   "execution_count": 19,
   "metadata": {},
   "outputs": [],
   "source": [
    "urlPages = [f'https://www.bbc.co.uk/programmes/b006qnmr/episodes/player?page={x}' for x in range(201)]\n",
    "links=[]\n",
    "for x in range(1,201): # make this 201 next time and get your links\n",
    "    URL= urlPages[x]\n",
    "    epLinks= getEpisodeLinks(URL)\n",
    "    ids= getIdentifiers(epLinks)\n",
    "    listIDs= list(ids)\n",
    "    finalURLs=[]\n",
    "    for y in listIDs:\n",
    "        finalURLs.append(f\"https://www.bbc.co.uk/programmes/{y}\")\n",
    "    links.append(finalURLs)"
   ]
  },
  {
   "cell_type": "code",
   "execution_count": 23,
   "metadata": {},
   "outputs": [],
   "source": [
    "final_list= [item for sublist in links for item in sublist]\n",
    "final_list= np.unique(final_list)"
   ]
  },
  {
   "cell_type": "markdown",
   "metadata": {},
   "source": [
    "### Get synopsis and castaway ###"
   ]
  },
  {
   "cell_type": "code",
   "execution_count": 25,
   "metadata": {},
   "outputs": [],
   "source": [
    "def getSynopses(URL):\n",
    "    page = requests.get(URL)\n",
    "    soup = BeautifulSoup(page.content, \"html.parser\")\n",
    "    try:\n",
    "        content= soup.find('div', class_=\"synopsis-toggle__long\").text\n",
    "        castaway= soup.find('h1').text\n",
    "        return [content, castaway,x]\n",
    "    except: pass\n"
   ]
  },
  {
   "cell_type": "code",
   "execution_count": 26,
   "metadata": {},
   "outputs": [],
   "source": [
    "out=[]\n",
    "for x in final_list:\n",
    "    out.append(getSynopses(x))"
   ]
  },
  {
   "cell_type": "code",
   "execution_count": 46,
   "metadata": {},
   "outputs": [],
   "source": [
    "new_data=list(filter(lambda item: item is not None, out))\n",
    "df= pd.DataFrame(new_data,columns=[\"synopsis\",\"castaway\",\"url\"])\n",
    "df.to_csv('synopsis_data.csv')"
   ]
  }
 ],
 "metadata": {
  "kernelspec": {
   "display_name": "base",
   "language": "python",
   "name": "python3"
  },
  "language_info": {
   "codemirror_mode": {
    "name": "ipython",
    "version": 3
   },
   "file_extension": ".py",
   "mimetype": "text/x-python",
   "name": "python",
   "nbconvert_exporter": "python",
   "pygments_lexer": "ipython3",
   "version": "3.9.7"
  },
  "orig_nbformat": 4
 },
 "nbformat": 4,
 "nbformat_minor": 2
}
